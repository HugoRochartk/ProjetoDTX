{
  "cells": [
    {
      "cell_type": "markdown",
      "metadata": {
        "id": "BhpLXCyMb48I"
      },
      "source": [
        "Projeto\n"
      ]
    },
    {
      "cell_type": "code",
      "execution_count": null,
      "metadata": {
        "colab": {
          "base_uri": "https://localhost:8080/"
        },
        "id": "6jdzp66ubAQL",
        "outputId": "d03ef2a3-9d91-4294-de63-286652e888ee"
      },
      "outputs": [],
      "source": [
        "#!pip install SoccerNet --upgrade"
      ]
    },
    {
      "cell_type": "markdown",
      "metadata": {},
      "source": [
        "### Mount drive\n"
      ]
    },
    {
      "cell_type": "code",
      "execution_count": null,
      "metadata": {
        "colab": {
          "base_uri": "https://localhost:8080/"
        },
        "id": "G3JtypFYMe24",
        "outputId": "13401c3b-35c3-40e0-890a-c3b226539d90"
      },
      "outputs": [
        {
          "name": "stdout",
          "output_type": "stream",
          "text": [
            "Mounted at /content/drive\n"
          ]
        }
      ],
      "source": [
        "#from google.colab import drive\n",
        "#drive.mount('/content/drive')"
      ]
    },
    {
      "cell_type": "code",
      "execution_count": null,
      "metadata": {
        "colab": {
          "base_uri": "https://localhost:8080/",
          "height": 701
        },
        "id": "HnsJ7bjBMNcF",
        "outputId": "38a3fd28-576e-467f-dd4c-ff4b59830620"
      },
      "outputs": [
        {
          "name": "stderr",
          "output_type": "stream",
          "text": [
            "Downloading Football-Dataset/england_epl\\2014-2015\\2015-02-21 - 18-00 Chelsea 1 - 1 Burnley\\1_224p.mkv...: : 173MiB [00:19, 8.78MiB/s]                         \n",
            "Downloading Football-Dataset/england_epl\\2014-2015\\2015-02-21 - 18-00 Chelsea 1 - 1 Burnley\\2_224p.mkv...: : 180MiB [00:15, 11.8MiB/s]                         \n",
            "Downloading Football-Dataset/england_epl\\2014-2015\\2015-02-21 - 18-00 Crystal Palace 1 - 2 Arsenal\\1_224p.mkv...: : 206MiB [00:17, 11.7MiB/s]                         \n",
            "Downloading Football-Dataset/england_epl\\2014-2015\\2015-02-21 - 18-00 Crystal Palace 1 - 2 Arsenal\\2_224p.mkv...:  79%|███████▊  | 173M/220M [00:08<00:04, 9.44MiB/s] "
          ]
        },
        {
          "ename": "KeyboardInterrupt",
          "evalue": "",
          "output_type": "error",
          "traceback": [
            "\u001b[1;31m---------------------------------------------------------------------------\u001b[0m",
            "\u001b[1;31mKeyboardInterrupt\u001b[0m                         Traceback (most recent call last)",
            "Cell \u001b[1;32mIn[1], line 16\u001b[0m\n\u001b[0;32m     13\u001b[0m     myDownloader\u001b[38;5;241m.\u001b[39mpassword \u001b[38;5;241m=\u001b[39m password\n\u001b[0;32m     14\u001b[0m     myDownloader\u001b[38;5;241m.\u001b[39mdownloadGames(files\u001b[38;5;241m=\u001b[39m[\u001b[38;5;124m\"\u001b[39m\u001b[38;5;124mLabels-v2.json\u001b[39m\u001b[38;5;124m\"\u001b[39m], split\u001b[38;5;241m=\u001b[39m[\u001b[38;5;124m\"\u001b[39m\u001b[38;5;124mtrain\u001b[39m\u001b[38;5;124m\"\u001b[39m,\u001b[38;5;124m\"\u001b[39m\u001b[38;5;124mvalid\u001b[39m\u001b[38;5;124m\"\u001b[39m,\u001b[38;5;124m\"\u001b[39m\u001b[38;5;124mtest\u001b[39m\u001b[38;5;124m\"\u001b[39m])\n\u001b[1;32m---> 16\u001b[0m unlabeled_dataset(\u001b[38;5;124m\"\u001b[39m\u001b[38;5;124mFootball-Dataset/\u001b[39m\u001b[38;5;124m\"\u001b[39m)\n",
            "Cell \u001b[1;32mIn[1], line 9\u001b[0m, in \u001b[0;36munlabeled_dataset\u001b[1;34m(LocalDirectory)\u001b[0m\n\u001b[0;32m      7\u001b[0m myDownloader \u001b[38;5;241m=\u001b[39m SoccerNetDownloader(LocalDirectory\u001b[38;5;241m=\u001b[39mLocalDirectory)\n\u001b[0;32m      8\u001b[0m myDownloader\u001b[38;5;241m.\u001b[39mpassword \u001b[38;5;241m=\u001b[39m password\n\u001b[1;32m----> 9\u001b[0m myDownloader\u001b[38;5;241m.\u001b[39mdownloadGames(files\u001b[38;5;241m=\u001b[39m[\u001b[38;5;124m\"\u001b[39m\u001b[38;5;124m1_224p.mkv\u001b[39m\u001b[38;5;124m\"\u001b[39m, \u001b[38;5;124m\"\u001b[39m\u001b[38;5;124m2_224p.mkv\u001b[39m\u001b[38;5;124m\"\u001b[39m], split\u001b[38;5;241m=\u001b[39m[\u001b[38;5;124m\"\u001b[39m\u001b[38;5;124mtrain\u001b[39m\u001b[38;5;124m\"\u001b[39m,\u001b[38;5;124m\"\u001b[39m\u001b[38;5;124mvalid\u001b[39m\u001b[38;5;124m\"\u001b[39m,\u001b[38;5;124m\"\u001b[39m\u001b[38;5;124mtest\u001b[39m\u001b[38;5;124m\"\u001b[39m,\u001b[38;5;124m\"\u001b[39m\u001b[38;5;124mchallenge\u001b[39m\u001b[38;5;124m\"\u001b[39m])\n",
            "File \u001b[1;32me:\\anaconda3\\Lib\\site-packages\\SoccerNet\\Downloader.py:1021\u001b[0m, in \u001b[0;36mSoccerNetDownloader.downloadGames\u001b[1;34m(self, files, split, task, verbose, randomized)\u001b[0m\n\u001b[0;32m   1018\u001b[0m     gamelist \u001b[38;5;241m=\u001b[39m random\u001b[38;5;241m.\u001b[39msample(gamelist,\u001b[38;5;28mlen\u001b[39m(gamelist))\n\u001b[0;32m   1020\u001b[0m \u001b[38;5;28;01mfor\u001b[39;00m game \u001b[38;5;129;01min\u001b[39;00m gamelist:\n\u001b[1;32m-> 1021\u001b[0m     \u001b[38;5;28mself\u001b[39m\u001b[38;5;241m.\u001b[39mdownloadGame(game\u001b[38;5;241m=\u001b[39mgame, files\u001b[38;5;241m=\u001b[39mfiles, spl\u001b[38;5;241m=\u001b[39mspl, verbose\u001b[38;5;241m=\u001b[39mverbose)\n",
            "File \u001b[1;32me:\\anaconda3\\Lib\\site-packages\\SoccerNet\\Downloader.py:901\u001b[0m, in \u001b[0;36mSoccerNetDownloader.downloadGame\u001b[1;34m(self, game, files, spl, verbose)\u001b[0m\n\u001b[0;32m    899\u001b[0m \u001b[38;5;66;03m# 224p Videos\u001b[39;00m\n\u001b[0;32m    900\u001b[0m \u001b[38;5;28;01mif\u001b[39;00m file \u001b[38;5;129;01min\u001b[39;00m [\u001b[38;5;124m\"\u001b[39m\u001b[38;5;124m1_224p.mkv\u001b[39m\u001b[38;5;124m\"\u001b[39m, \u001b[38;5;124m\"\u001b[39m\u001b[38;5;124m2_224p.mkv\u001b[39m\u001b[38;5;124m\"\u001b[39m]:\n\u001b[1;32m--> 901\u001b[0m     res \u001b[38;5;241m=\u001b[39m \u001b[38;5;28mself\u001b[39m\u001b[38;5;241m.\u001b[39mdownloadFile(path_local\u001b[38;5;241m=\u001b[39mos\u001b[38;5;241m.\u001b[39mpath\u001b[38;5;241m.\u001b[39mjoin(GameDirectory, file),\n\u001b[0;32m    902\u001b[0m                             path_owncloud\u001b[38;5;241m=\u001b[39mos\u001b[38;5;241m.\u001b[39mpath\u001b[38;5;241m.\u001b[39mjoin(\u001b[38;5;28mself\u001b[39m\u001b[38;5;241m.\u001b[39mOwnCloudServer, \u001b[38;5;124m\"\u001b[39m\u001b[38;5;124mvideo_224p\u001b[39m\u001b[38;5;124m\"\u001b[39m, game, file)\u001b[38;5;241m.\u001b[39mreplace(\u001b[38;5;124m'\u001b[39m\u001b[38;5;124m \u001b[39m\u001b[38;5;124m'\u001b[39m, \u001b[38;5;124m'\u001b[39m\u001b[38;5;124m%\u001b[39m\u001b[38;5;124m20\u001b[39m\u001b[38;5;124m'\u001b[39m)\u001b[38;5;241m.\u001b[39mreplace(\u001b[38;5;124m'\u001b[39m\u001b[38;5;130;01m\\\\\u001b[39;00m\u001b[38;5;124m'\u001b[39m, \u001b[38;5;124m'\u001b[39m\u001b[38;5;124m/\u001b[39m\u001b[38;5;124m'\u001b[39m),\n\u001b[0;32m    903\u001b[0m                             user\u001b[38;5;241m=\u001b[39m\u001b[38;5;124m\"\u001b[39m\u001b[38;5;124mMKmZigARdGSoaTT\u001b[39m\u001b[38;5;124m\"\u001b[39m,  \u001b[38;5;66;03m# https://exrcsdrive.kaust.edu.sa/exrcsdrive/index.php/s/MKmZigARdGSoaTT # user for video 224p\u001b[39;00m\n\u001b[0;32m    904\u001b[0m                             password\u001b[38;5;241m=\u001b[39m\u001b[38;5;28mself\u001b[39m\u001b[38;5;241m.\u001b[39mpassword,\n\u001b[0;32m    905\u001b[0m                             verbose\u001b[38;5;241m=\u001b[39mverbose)\n\u001b[0;32m    907\u001b[0m \u001b[38;5;66;03m# 720p Videos\u001b[39;00m\n\u001b[0;32m    908\u001b[0m \u001b[38;5;28;01mif\u001b[39;00m file \u001b[38;5;129;01min\u001b[39;00m [\u001b[38;5;124m\"\u001b[39m\u001b[38;5;124m1_720p.mkv\u001b[39m\u001b[38;5;124m\"\u001b[39m, \u001b[38;5;124m\"\u001b[39m\u001b[38;5;124m2_720p.mkv\u001b[39m\u001b[38;5;124m\"\u001b[39m]:\n",
            "File \u001b[1;32me:\\anaconda3\\Lib\\site-packages\\SoccerNet\\Downloader.py:67\u001b[0m, in \u001b[0;36mOwnCloudDownloader.downloadFile\u001b[1;34m(self, path_local, path_owncloud, user, password, verbose)\u001b[0m\n\u001b[0;32m     65\u001b[0m \u001b[38;5;28;01mtry\u001b[39;00m:\n\u001b[0;32m     66\u001b[0m     os\u001b[38;5;241m.\u001b[39mmakedirs(os\u001b[38;5;241m.\u001b[39mpath\u001b[38;5;241m.\u001b[39mdirname(path_local), exist_ok\u001b[38;5;241m=\u001b[39m\u001b[38;5;28;01mTrue\u001b[39;00m)\n\u001b[1;32m---> 67\u001b[0m     urllib\u001b[38;5;241m.\u001b[39mrequest\u001b[38;5;241m.\u001b[39murlretrieve(\n\u001b[0;32m     68\u001b[0m         path_owncloud, path_local, MyProgressBar(path_local))\n\u001b[0;32m     70\u001b[0m \u001b[38;5;28;01mexcept\u001b[39;00m urllib\u001b[38;5;241m.\u001b[39merror\u001b[38;5;241m.\u001b[39mHTTPError \u001b[38;5;28;01mas\u001b[39;00m identifier:\n\u001b[0;32m     71\u001b[0m     \u001b[38;5;28mprint\u001b[39m(identifier)\n",
            "File \u001b[1;32me:\\anaconda3\\Lib\\urllib\\request.py:270\u001b[0m, in \u001b[0;36murlretrieve\u001b[1;34m(url, filename, reporthook, data)\u001b[0m\n\u001b[0;32m    267\u001b[0m     reporthook(blocknum, bs, size)\n\u001b[0;32m    269\u001b[0m \u001b[38;5;28;01mwhile\u001b[39;00m \u001b[38;5;28;01mTrue\u001b[39;00m:\n\u001b[1;32m--> 270\u001b[0m     block \u001b[38;5;241m=\u001b[39m fp\u001b[38;5;241m.\u001b[39mread(bs)\n\u001b[0;32m    271\u001b[0m     \u001b[38;5;28;01mif\u001b[39;00m \u001b[38;5;129;01mnot\u001b[39;00m block:\n\u001b[0;32m    272\u001b[0m         \u001b[38;5;28;01mbreak\u001b[39;00m\n",
            "File \u001b[1;32me:\\anaconda3\\Lib\\http\\client.py:466\u001b[0m, in \u001b[0;36mHTTPResponse.read\u001b[1;34m(self, amt)\u001b[0m\n\u001b[0;32m    463\u001b[0m \u001b[38;5;28;01mif\u001b[39;00m \u001b[38;5;28mself\u001b[39m\u001b[38;5;241m.\u001b[39mlength \u001b[38;5;129;01mis\u001b[39;00m \u001b[38;5;129;01mnot\u001b[39;00m \u001b[38;5;28;01mNone\u001b[39;00m \u001b[38;5;129;01mand\u001b[39;00m amt \u001b[38;5;241m>\u001b[39m \u001b[38;5;28mself\u001b[39m\u001b[38;5;241m.\u001b[39mlength:\n\u001b[0;32m    464\u001b[0m     \u001b[38;5;66;03m# clip the read to the \"end of response\"\u001b[39;00m\n\u001b[0;32m    465\u001b[0m     amt \u001b[38;5;241m=\u001b[39m \u001b[38;5;28mself\u001b[39m\u001b[38;5;241m.\u001b[39mlength\n\u001b[1;32m--> 466\u001b[0m s \u001b[38;5;241m=\u001b[39m \u001b[38;5;28mself\u001b[39m\u001b[38;5;241m.\u001b[39mfp\u001b[38;5;241m.\u001b[39mread(amt)\n\u001b[0;32m    467\u001b[0m \u001b[38;5;28;01mif\u001b[39;00m \u001b[38;5;129;01mnot\u001b[39;00m s \u001b[38;5;129;01mand\u001b[39;00m amt:\n\u001b[0;32m    468\u001b[0m     \u001b[38;5;66;03m# Ideally, we would raise IncompleteRead if the content-length\u001b[39;00m\n\u001b[0;32m    469\u001b[0m     \u001b[38;5;66;03m# wasn't satisfied, but it might break compatibility.\u001b[39;00m\n\u001b[0;32m    470\u001b[0m     \u001b[38;5;28mself\u001b[39m\u001b[38;5;241m.\u001b[39m_close_conn()\n",
            "File \u001b[1;32me:\\anaconda3\\Lib\\socket.py:706\u001b[0m, in \u001b[0;36mSocketIO.readinto\u001b[1;34m(self, b)\u001b[0m\n\u001b[0;32m    704\u001b[0m \u001b[38;5;28;01mwhile\u001b[39;00m \u001b[38;5;28;01mTrue\u001b[39;00m:\n\u001b[0;32m    705\u001b[0m     \u001b[38;5;28;01mtry\u001b[39;00m:\n\u001b[1;32m--> 706\u001b[0m         \u001b[38;5;28;01mreturn\u001b[39;00m \u001b[38;5;28mself\u001b[39m\u001b[38;5;241m.\u001b[39m_sock\u001b[38;5;241m.\u001b[39mrecv_into(b)\n\u001b[0;32m    707\u001b[0m     \u001b[38;5;28;01mexcept\u001b[39;00m timeout:\n\u001b[0;32m    708\u001b[0m         \u001b[38;5;28mself\u001b[39m\u001b[38;5;241m.\u001b[39m_timeout_occurred \u001b[38;5;241m=\u001b[39m \u001b[38;5;28;01mTrue\u001b[39;00m\n",
            "File \u001b[1;32me:\\anaconda3\\Lib\\ssl.py:1278\u001b[0m, in \u001b[0;36mSSLSocket.recv_into\u001b[1;34m(self, buffer, nbytes, flags)\u001b[0m\n\u001b[0;32m   1274\u001b[0m     \u001b[38;5;28;01mif\u001b[39;00m flags \u001b[38;5;241m!=\u001b[39m \u001b[38;5;241m0\u001b[39m:\n\u001b[0;32m   1275\u001b[0m         \u001b[38;5;28;01mraise\u001b[39;00m \u001b[38;5;167;01mValueError\u001b[39;00m(\n\u001b[0;32m   1276\u001b[0m           \u001b[38;5;124m\"\u001b[39m\u001b[38;5;124mnon-zero flags not allowed in calls to recv_into() on \u001b[39m\u001b[38;5;132;01m%s\u001b[39;00m\u001b[38;5;124m\"\u001b[39m \u001b[38;5;241m%\u001b[39m\n\u001b[0;32m   1277\u001b[0m           \u001b[38;5;28mself\u001b[39m\u001b[38;5;241m.\u001b[39m\u001b[38;5;18m__class__\u001b[39m)\n\u001b[1;32m-> 1278\u001b[0m     \u001b[38;5;28;01mreturn\u001b[39;00m \u001b[38;5;28mself\u001b[39m\u001b[38;5;241m.\u001b[39mread(nbytes, buffer)\n\u001b[0;32m   1279\u001b[0m \u001b[38;5;28;01melse\u001b[39;00m:\n\u001b[0;32m   1280\u001b[0m     \u001b[38;5;28;01mreturn\u001b[39;00m \u001b[38;5;28msuper\u001b[39m()\u001b[38;5;241m.\u001b[39mrecv_into(buffer, nbytes, flags)\n",
            "File \u001b[1;32me:\\anaconda3\\Lib\\ssl.py:1134\u001b[0m, in \u001b[0;36mSSLSocket.read\u001b[1;34m(self, len, buffer)\u001b[0m\n\u001b[0;32m   1132\u001b[0m \u001b[38;5;28;01mtry\u001b[39;00m:\n\u001b[0;32m   1133\u001b[0m     \u001b[38;5;28;01mif\u001b[39;00m buffer \u001b[38;5;129;01mis\u001b[39;00m \u001b[38;5;129;01mnot\u001b[39;00m \u001b[38;5;28;01mNone\u001b[39;00m:\n\u001b[1;32m-> 1134\u001b[0m         \u001b[38;5;28;01mreturn\u001b[39;00m \u001b[38;5;28mself\u001b[39m\u001b[38;5;241m.\u001b[39m_sslobj\u001b[38;5;241m.\u001b[39mread(\u001b[38;5;28mlen\u001b[39m, buffer)\n\u001b[0;32m   1135\u001b[0m     \u001b[38;5;28;01melse\u001b[39;00m:\n\u001b[0;32m   1136\u001b[0m         \u001b[38;5;28;01mreturn\u001b[39;00m \u001b[38;5;28mself\u001b[39m\u001b[38;5;241m.\u001b[39m_sslobj\u001b[38;5;241m.\u001b[39mread(\u001b[38;5;28mlen\u001b[39m)\n",
            "\u001b[1;31mKeyboardInterrupt\u001b[0m: "
          ]
        },
        {
          "name": "stderr",
          "output_type": "stream",
          "text": [
            "Downloading Football-Dataset/england_epl\\2014-2015\\2015-02-21 - 18-00 Crystal Palace 1 - 2 Arsenal\\2_224p.mkv...:  79%|███████▉  | 174M/220M [00:24<00:04, 9.44MiB/s]"
          ]
        }
      ],
      "source": [
        "from SoccerNet.Downloader import SoccerNetDownloader\n",
        "\n",
        "password = \"s0cc3rn3t\"\n",
        "\n",
        "def unlabeled_dataset(LocalDirectory):\n",
        "    myDownloader = SoccerNetDownloader(LocalDirectory=LocalDirectory)\n",
        "    myDownloader.password = password\n",
        "    myDownloader.downloadGames(files=[\"1_224p.mkv\", \"2_224p.mkv\"], split=[\"train\",\"valid\",\"test\",\"challenge\"])\n",
        "\n",
        "def labeled_dataset(LocalDirectory):\n",
        "    myDownloader = SoccerNetDownloader(LocalDirectory=\"Football-Dataset/\")\n",
        "    myDownloader.password = password\n",
        "    myDownloader.downloadGames(files=[\"Labels-v2.json\"], split=[\"train\",\"valid\",\"test\"])\n",
        "\n",
        "#unlabeled_dataset(\"Football-Dataset/\")\n",
        "labeled_dataset(\"Football-Dataset/\")"
      ]
    },
    {
      "cell_type": "code",
      "execution_count": null,
      "metadata": {
        "colab": {
          "base_uri": "https://localhost:8080/"
        },
        "id": "CBYzSIJnM0nr",
        "outputId": "617e0477-1adf-4ef7-fcc9-af16cb1bde43"
      },
      "outputs": [],
      "source": [
        "#!pip install transformers\n",
        "#!pip install ffmpeg\n",
        "#!pip install torch\n",
        "#!pip install ffmpeg-python\n",
        "#!pip install accelerate"
      ]
    },
    {
      "cell_type": "code",
      "execution_count": 16,
      "metadata": {
        "id": "4LE5CrQr50Lf"
      },
      "outputs": [
        {
          "name": "stderr",
          "output_type": "stream",
          "text": [
            "/home/simao/.conda/envs/projeto/lib/python3.12/site-packages/tqdm/auto.py:21: TqdmWarning: IProgress not found. Please update jupyter and ipywidgets. See https://ipywidgets.readthedocs.io/en/stable/user_install.html\n",
            "  from .autonotebook import tqdm as notebook_tqdm\n"
          ]
        }
      ],
      "source": [
        "import ffmpeg\n",
        "from transformers import AutoModelForSpeechSeq2Seq, AutoProcessor, pipeline\n",
        "import torch\n",
        "import os\n",
        "import shutil\n",
        "import time\n",
        "import json"
      ]
    },
    {
      "cell_type": "code",
      "execution_count": 2,
      "metadata": {
        "colab": {
          "base_uri": "https://localhost:8080/"
        },
        "id": "pJsT1w17hksh",
        "outputId": "414b49ec-044f-42ea-e919-fcb8d5870e4f"
      },
      "outputs": [
        {
          "name": "stderr",
          "output_type": "stream",
          "text": [
            "Special tokens have been added in the vocabulary, make sure the associated word embeddings are fine-tuned or trained.\n"
          ]
        }
      ],
      "source": [
        "def build_model(model_id):\n",
        "    device = \"cuda:0\" if torch.cuda.is_available() else \"cpu\"\n",
        "    torch_dtype = torch.float16 if torch.cuda.is_available() else torch.float32\n",
        "\n",
        "\n",
        "    model = AutoModelForSpeechSeq2Seq.from_pretrained(\n",
        "    model_id, torch_dtype=torch_dtype, use_safetensors=True\n",
        "                                                      )\n",
        "    model.to(device)\n",
        "\n",
        "    processor = AutoProcessor.from_pretrained(model_id, language=\"en\")\n",
        "\n",
        "    pipe = pipeline(\n",
        "        \"automatic-speech-recognition\",\n",
        "        model=model,\n",
        "        tokenizer=processor.tokenizer,\n",
        "        feature_extractor=processor.feature_extractor,\n",
        "        max_new_tokens=128,\n",
        "        chunk_length_s=30,\n",
        "        batch_size=16,\n",
        "        return_timestamps=True,\n",
        "        torch_dtype=torch_dtype,\n",
        "        device=device,\n",
        "    )\n",
        "\n",
        "    return pipe\n",
        "\n",
        "model_id = \"openai/whisper-base\" #\"openai/whisper-large-v3\"\n",
        "model_ids = [\"openai/whisper-base\", \"openai/whisper-small\", \"openai/whisper-medium\", \"openai/whisper-large\"]\n",
        "pipe = build_model(model_id=model_id)"
      ]
    },
    {
      "cell_type": "markdown",
      "metadata": {},
      "source": [
        "### Fragment audio and translate\n"
      ]
    },
    {
      "cell_type": "code",
      "execution_count": 9,
      "metadata": {
        "colab": {
          "base_uri": "https://localhost:8080/"
        },
        "id": "roiq4-78rulp",
        "outputId": "ad4e9cce-b304-43f4-f216-b982b6f8e425"
      },
      "outputs": [],
      "source": [
        "# environment variables\n",
        "#local_dir = \"drive/MyDrive/DTX/Football-Dataset\"\n",
        "dir = \"Football-Dataset/england_epl/\"\n",
        "\n",
        "def update_txt_file(text, path):\n",
        "    with open(path, \"w\", encoding=\"utf-8\") as f:\n",
        "        f.write(text)\n",
        "\n",
        "\n",
        "def audio_to_text(pipe, model_id):\n",
        "  for year in os.listdir(dir):\n",
        "      games = os.path.join(dir, year)\n",
        "      for game in os.listdir(games):\n",
        "          if game != \".ipynb_checkpoints\":\n",
        "              game_dir = os.path.join(games, game)\n",
        "              frag1_dir = os.path.join(game_dir, \"fragments_1_224p\")\n",
        "              frag2_dir = os.path.join(game_dir, \"fragments_2_224p\")\n",
        "\n",
        "              for audioFrag1 in os.listdir(frag1_dir):\n",
        "                result = pipe(frag1_dir + '/' + audioFrag1, return_timestamps=True,  generate_kwargs = {\"language\": \"english\", \"task\": \"translate\"})\n",
        "                update_txt_file(result['text'], frag1_dir + f'/{audioFrag1[:-4]}__{model_id[7:]}.txt')\n",
        "\n",
        "              for audioFrag2 in os.listdir(frag2_dir):\n",
        "                result = pipe(frag2_dir + '/' + audioFrag2, return_timestamps=True,  generate_kwargs = {\"language\": \"english\", \"task\": \"translate\"})\n",
        "                update_txt_file(result['text'], frag2_dir + f'/{audioFrag2[:-4]}__{model_id[7:]}.txt')\n",
        "\n",
        "\n",
        "def clear_nonvideos(path):\n",
        "    for t in os.listdir(path):\n",
        "        if os.path.isdir(path + '/' + t):\n",
        "          shutil.rmtree(path + '/' + t)\n",
        "        else:\n",
        "          if not t.endswith(\".mkv\"):\n",
        "             os.remove(path + '/' + t)\n",
        "\n",
        "\n",
        "def fragment_dataset_audio(audio_cut_length, offset):\n",
        "  for year in os.listdir(dir):\n",
        "      games = os.path.join(dir, year)\n",
        "      for game in os.listdir(games):\n",
        "          game_dir = os.path.join(games, game)\n",
        "\n",
        "          if game != \".ipynb_checkpoints\":\n",
        "            clear_nonvideos(game_dir)\n",
        "            for videoFile in os.listdir(game_dir):\n",
        "                pathVideo = game_dir + \"/\" + videoFile\n",
        "                videoFragments = game_dir + f\"/fragments_{videoFile[:-4]}\"\n",
        "                if not os.path.exists(videoFragments):\n",
        "                  os.mkdir(videoFragments)\n",
        "\n",
        "                duration = float(ffmpeg.probe(pathVideo)[\"format\"][\"duration\"])\n",
        "                steps = duration/audio_cut_length\n",
        "                for n in range(int(steps)+1):\n",
        "                  ffmpeg.input(pathVideo, ss=(n*audio_cut_length)-offset, to=(n+1)*audio_cut_length).output(videoFragments + f\"/fragment_{n}.wav\").run(quiet=True, overwrite_output=True)\n",
        "\n",
        "\n",
        "#fragment_dataset_audio(audio_cut_length=30, offset=2)\n",
        "audio_to_text(pipe=pipe, model_id=model_id)"
      ]
    },
    {
      "cell_type": "markdown",
      "metadata": {},
      "source": [
        "### Benchmark\n"
      ]
    },
    {
      "cell_type": "code",
      "execution_count": null,
      "metadata": {
        "id": "WWa1iVTV6SS6"
      },
      "outputs": [],
      "source": [
        "\n",
        "def get_fragment_zero(m):\n",
        "   with open(dir+f\"2014-2015/2015-02-21 - 18-00 Chelsea 1 - 1 Burnley/fragments_1_224p/fragment_0__{m[7:]}.txt\", \"r\") as f:\n",
        "      return f.readline()\n",
        "\n",
        "\n",
        "def benchmark():\n",
        "  for m in model_ids:\n",
        "    fragment_dataset_audio(audio_cut_length=30, offset=2)\n",
        "    start_time = time.time()\n",
        "    pipe = build_model(model_id=m)\n",
        "    audio_to_text(pipe, m)\n",
        "    print(f\"Model: {m}\")\n",
        "    print(f\"Time (seconds): {time.time() - start_time}\")\n",
        "    frag0 = get_fragment_zero(m)\n",
        "    print(f\"Fragment 0: {frag0}\")\n",
        "\n",
        "\n",
        "\n",
        "def benchmark_json():\n",
        "    benchmarks_times = {\"openai/whisper-tiny\": \"7:52\", \"openai/whisper-base\": \"13:34\", \"openai/whisper-small\": \"34:52\", \"openai/whisper-medium\": \"85:36\", \"openai/whisper-large\": \"173:11\"}\n",
        "    benchmarks_frags = {\"openai/whisper-tiny\": \"Maran Koja, the second man, Manaoja, the father of the barley, has also said that in the first part of the league, and in which the second player won the Chelsea 1-3, the third player won the first one, and that he remembered that he was from the last one, and he ended up remontating, but he has to remember without any difficulties. Exactly, I just said that he was going to say, remember that very well, he started winning the barley, Mark Ungol,\",\"openai/whisper-base\": \"Marco Jalduelo manages the ball's penalty. You have to say that they also gave the first game of Liga and in that match he won the Chelsea 1-3. The ball went forward. You have to remember that it went forward and ended up not remembering that much difficult. Exactly, what he was saying, I remember that game, he started the penalty and scored a goal, but the Chelsea won it. That's why he should have problems today, but as he said, football is\", \"openai/whisper-small\": \"Moarran Coya, the duel, the Barley's ball is in control. They also got the first game of the league, and Chelsea won 1-3 in that match. The Barley got ahead of themselves. They had to remember that they got ahead of themselves and ended up getting back on the pitch. They had to remember that Chelsea had too many difficulties. Exactly, that's what I was going to say. I remember that match very well, the Barley started well, scored a goal, but Chelsea won it comfortably.\", \"openai/whisper-medium\": \"The duel has begun, Barley's ball is in the air. They also met in the first game of the league, and in that match Chelsea won 1-3. Barley went ahead. You have to remember that he went ahead in that game and ended up going back without too many difficulties. Exactly, that's what I was going to say. I remember that game very well. Barley started well, scored a goal, but Chelsea won comfortably. That's why today shouldn't have any problems either,\", \"openai/whisper-large\": \"The duel has started, Barley is in control of the ball. It must be said that they also met in the first league match and in that match Chelsea won 1-3. Barley was ahead. We must remember that he was ahead in that match and ended up going back without too many difficulties for Chelsea. Exactly, that's what I was going to say. I remember that match very well. Barley started well, scored a goal, but Chelsea won it comfortably. That's why today he shouldn't have any problems either,\"}\n",
        "  \n",
        "    \n",
        "    json1 = []\n",
        "\n",
        "\n",
        "    for model in benchmarks_times:\n",
        "      dados={\"jogo\": \"2015-02-21 - 18-00 Chelsea 1 - 1 Burnley\", \"model\": model, \"run_time_per_game\": benchmarks_times[model], \"transcricao\": benchmarks_frags[model]}\n",
        "      json1.append(dados)\n",
        "\n",
        "    with open(\"benchmark.json\", \"w\") as f:\n",
        "       json.dump(json1,f,indent=2)\n",
        "\n",
        "\n",
        "#nao correr \n",
        "#benchmark()\n",
        "\n",
        "benchmark_json() \n"
      ]
    },
    {
      "cell_type": "markdown",
      "metadata": {},
      "source": [
        "### Zero-Shot-Classification\n"
      ]
    },
    {
      "cell_type": "markdown",
      "metadata": {},
      "source": [
        "### Zero-Shot-Classification\n"
      ]
    },
    {
      "cell_type": "code",
      "execution_count": null,
      "metadata": {
        "id": "UybxgAfof8B0"
      },
      "outputs": [],
      "source": [
        "# Iterate through folders to apply zero-shot classification\n",
        "classifier = pipeline(\n",
        "    \"zero-shot-classification\",\n",
        "    model=\"facebook/bart-large-mnli\",\n",
        ")\n",
        "\n",
        "#sequence_to_classify = result['text']\n",
        "sequence_to_classify = \" Mark Mitch For the continued work the dry Sun A half minute in and Continue produces work from the top draw to put Liverpool ahead Wow, what a fantastic strike that is Stunning goal Absolutely stunning goal just looking at his technique the goal. I'm just looking at his technique. I mean, it's a umbrella to be slow build up from New York for nobody in the ground for a minute was going to hit him. And there he bends it with power.\"\n",
        "candidate_labels = ['danger moment', 'interesting', 'uninteresting', 'moment without danger']\n",
        "res = classifier(sequence_to_classify, candidate_labels)\n",
        "\n",
        "# Benchmark the different versions of the model\n",
        "model_versions = [\"facebook/bart-large-mnli\", \"???\"]\n"
      ]
    },
    {
      "cell_type": "markdown",
      "metadata": {},
      "source": [
        "### Build our own dataset\n"
      ]
    },
    {
      "cell_type": "code",
      "execution_count": 17,
      "metadata": {
        "colab": {
          "base_uri": "https://localhost:8080/",
          "height": 124
        },
        "id": "3XkgxJrIQXqr",
        "outputId": "4fdb4337-0404-49a9-868c-81c29d8d0b0e"
      },
      "outputs": [
        {
          "name": "stdout",
          "output_type": "stream",
          "text": [
            "{'gameTime': '1 - 00:00', 'label': 'Kick-off', 'position': '0', 'team': 'away', 'visibility': 'not shown'}\n",
            "id: 1\n",
            "1;england_epl;2015-02-22 - 19-15 Southampton 0 - 2 Liverpool;148;180; Mark Mitch For the continued work the dry Sun A half minute in and Continue produces work from the top draw to put Liverpool ahead Wow, what a fantastic strike that is Stunning goal Absolutely stunning goal just looking at his technique the goal. I'm just looking at his technique. I mean, it's a umbrella to be slow build up from New York for nobody in the ground for a minute was going to hit him. And there he bends it with power.;whisper-base;Goal\n",
            "\n",
            "id: 2\n",
            "2;england_epl;2015-02-22 - 19-15 Southampton 0 - 2 Liverpool;208;240; the last 16 games in all competitions, but Southampton proved at the other end straightaway. And Annie as effort is blocked, he flipped it away for a corner. The Southampton players and fans think they should have had another penalty there. Wow, there's all happened, he's slipped on. Wow, I feel there, he hasn't made any contact with the ball there, he can do. Yeah, that's for me, that's a penalty. the;whisper-base;Shots on target\n",
            "\n",
            "id: 3\n",
            "3;england_epl;2015-02-22 - 19-15 Southampton 0 - 2 Liverpool;238;270; the referee has got that wrong. Same per involved. The Joe Zayfon does the Southampton captain. Leeds the delegation of protestees to referee Kevin Train. Joe Allen was the Liverpool player involved. The player make any contact with the board. Jerry Chitchis calls real problems in the opening five minutes of his game that Southampton finds themselves behind the table. The player is going to be in the middle of the ball. The two of them are going to be in the middle of the ball. The two of them are going to be in the middle of the ball. The two of them are going to be in the middle of the ball. The two of them are going to be in the middle of the ball. The two of them are going to be in the middle of the ball. The two of them are going to be in the middle of the ball. The two of them are going to be in the middle of the ball. The two of them are going to be in the middle of the ball. The two of them are going to be in the middle of the ball. The two of them are going to be in the middle of the ball. The two of them are going to be in the middle of the ball. The two of them are going to be in the middle of the ball. The two of them are going to be;whisper-base;Corner\n",
            "\n",
            "id: 4\n",
            "4;england_epl;2015-02-22 - 19-15 Southampton 0 - 2 Liverpool;268;300; the ball works in by targets from the former and in the end, Minu 8, 10. We've got another corner. And Liverpool can just calm things down. But exactly that's what they need to do. I'm guaranteed to involve again. He's making that run right through the middle of that little receiver. So it's for not a care in these open exchanges from one end to the other. Fascinating. For NETIC here in these open exchanges from one end to the other, fascinating.;whisper-base;Foul\n",
            "\n",
            "id: 5\n",
            "5;england_epl;2015-02-22 - 19-15 Southampton 0 - 2 Liverpool;298;330; the other other other other other other other other other other other other other other other other other other other other other other other other other other other other the opening five minutes or so. Drifting over the head of Target who's returned at the South Hansley side today after a very nice injury but he;whisper-base;Foul\n",
            "\n",
            "id: 6\n",
            "6;england_epl;2015-02-22 - 19-15 Southampton 0 - 2 Liverpool;598;630; the defence roll for Southampton as well here. All persons attacking. Force for Wang Yama. Climb. Taking on Markovich. And drawing the three-dead. We talked about Markovich really. It makes shift defender. Now you see it. It doesn't want to defend. It's a lazy foot he puts in there. the first time in the game. We talked about Mark of it. Really makes shift defender. Now you see it doesn't want to defend. It's a lazy foot he puts in there puts his team in a difficult position.;whisper-base;Foul\n",
            "\n",
            "id: 7\n",
            "7;england_epl;2015-02-22 - 19-15 Southampton 0 - 2 Liverpool;748;780; the first delivery to speak. Eventually Liverpool will be able to work in a way with La Lana. Patrick comes again with Davis. Sturden doing well to defend for the front good pressure as well. Fly by Henderson. I'm fair pressure. I feel it in the referee. And Davis wins a free game. Yeah, referee Arthur has got that right. Certainly from a Liverpool point of view. Mark, I'm not going to say that I'm going to say that I'm going to say that I'm going to say that I'm going to say that I'm going to say that I'm going to say that I'm going to say that I'm going to say that I'm going to say that I'm going to say that I'm going to say that I'm going to say. I'm fair pressure. I feel it in the referee. And David Swin's a very good. Yeah, referee, I feel has got that right. Certainly from a Liverpool point of view. Markovitch is just not doing enough. If they're going to score.;whisper-base;Foul\n",
            "\n",
            "id: 8\n",
            "8;england_epl;2015-02-22 - 19-15 Southampton 0 - 2 Liverpool;868;900; one in by Warp Rouse. Time just to gather at the second attempt. His improvement has been fast. He looked as if he wasn't going to play for the Red Bull again. His coinciding in the form of the team but when a keeper comes and takes the ball like that takes all the pressure away from his colleagues.;whisper-base;Corner\n",
            "\n",
            "{'gameTime': '1 - 00:00', 'label': 'Kick-off', 'position': '0', 'team': 'away', 'visibility': 'not shown'}\n",
            "id: 9\n",
            "9;england_epl;2015-02-22 - 19-15 Southampton 0 - 2 Liverpool;238;270; the And he's one yama.;whisper-base;Corner\n",
            "\n",
            "id: 10\n",
            "10;england_epl;2015-02-22 - 19-15 Southampton 0 - 2 Liverpool;418;450; but still in his offside. Still in the want that ball much earlier, making a really good run there out of shot. Henderson not seeing it early enough. the two players as well after the;whisper-base;Foul\n",
            "\n",
            "id: 11\n",
            "11;england_epl;2015-02-22 - 19-15 Southampton 0 - 2 Liverpool;478;510; and the ball press free kick. That's too close to the mini leg. You see there that's just a bit too much on it. And it's almost a self-indulgence. I know he wants to wick it. You know that with a lot of pleasure, but putting the necessary power is not how you look. It's about the delivery, the quality of the delivery. So young player finding his way. I think we might have given Joe out on the free kick but he didn't stop play when continue with Spanish.;whisper-base;Foul\n",
            "\n",
            "id: 12\n",
            "12;england_epl;2015-02-22 - 19-15 Southampton 0 - 2 Liverpool;748;780; the ball. I'm just going to look at her tasting him. Just looking at the change that they've made. Just money. I'm not playing that little whole where. I'm not playing that little whole where. I'm not playing that little where. I'm not playing that little where. I'm not playing that little where. I'm not playing that little where. I'm not playing that little where. I'm not playing that little where. I'm not playing that little where. I'm not playing that little where. I'm not playing that little where. I'm just got a little bit more taste in him. Just looking at the change that they've made. Just money, money playing in that little hole there. Almost simulating little.;whisper-base;Foul\n",
            "\n",
            "id: 13\n",
            "13;england_epl;2015-02-22 - 19-15 Southampton 0 - 2 Liverpool;868;900; the back in his side his own penalty area. And clear by Marano. Henderson. Great result for Liverpool for a moment. Target did very well to a sage to threat. There's no margin for error. Liverpool. Looking forward so quickly one stage. Almost four against one. Yeah. the first stage the track and there's no margin for error. The Liverpool looking forward so quickly on stage almost four against one. Yeah. Snipe in now. We said it already.;whisper-base;Corner\n",
            "\n",
            "id: 14\n",
            "14;england_epl;2015-02-22 - 19-15 Southampton 0 - 2 Liverpool;1048;1080; the the three because against one Yammer. He'll come forward as well. I think there's a bit of bitterness in this.;whisper-base;Foul\n",
            "\n",
            "id: 15\n",
            "15;england_epl;2015-02-22 - 19-15 Southampton 0 - 2 Liverpool;1378;1410; the ball so quickly that enders in the end just gives away a So quickly that end is in the end just as a way of breaking. I thought hell, hell yeah, should have shot from distance took too long. We're talking about moving the ball quickly. After rotation, just move it shift it.;whisper-base;Foul\n",
            "\n",
            "id: 16\n",
            "16;england_epl;2015-02-22 - 19-15 Southampton 0 - 2 Liverpool;1498;1530; to a cameo appearance off the bench in the Bundesliga. He's been what is role of Fiend for up to the season so far, Fendick Jura-Chitch with mics. Senior wins the free kick. Where the arm iskate. The I'm not complaining. I'm not complaining. I'm not complaining. I'm not complaining.;whisper-base;Foul\n",
            "\n",
            "id: 17\n",
            "17;england_epl;2015-02-22 - 19-15 Southampton 0 - 2 Liverpool;1888;1920; He's got a little bit of a little bit of a little bit of a little bit of a little bit of a little bit of a little bit of a little bit of a little bit of a little bit of a little bit of a little bit of a little bit of a little bit of a little bit of a little bit of a little bit of a little bit of a little bit of a little bit of a little bit of a little bit of a little bit of a little bit of a little bit of a little bit of a little bit of a little bit of a little bit of a little bit of a little bit of a little bit of a little bit of a little bit of a little bit of a little bit of a little bit of a little bit of a little bit of a little bit of a little bit of a little bit of a little bit of a little bit of a little bit of a little bit of a little bit of a little bit of a little bit of a little bit of a little bit of a little bit of a little bit of a the way down.;whisper-base;Foul\n",
            "\n",
            "id: 18\n",
            "18;england_epl;2015-02-22 - 19-15 Southampton 0 - 2 Liverpool;2608;2640; to play Champions League football. Sorry, Europa League football. FA Cup to calm. It just goes from one success to the other. Where San Hampton just not producing their early season form. Manay brought down. Challenge from Joe Allen. Latest in an increasing in long line of free kicks in potentially dangerous areas. None of which they've been able to work sufficiently so far. Tannic Shigan will stand over this.;whisper-base;Foul\n",
            "\n",
            "id: 19\n",
            "19;england_epl;2015-02-22 - 19-15 Southampton 0 - 2 Liverpool;2668;2700; the ball. The ball is out of the way. The ball is out of the way. The ball is out of the way. The ball is out of the way. The ball is out of the way. The ball is out of the way. The ball is out of the way. The ball is out of the way. The ball is out of the way. The ball is out of the way. The ball is out of the way. The ball is out of the way. The ball is out of the way. The ball is out of the way. The ball is out of the way. The ball is out of the way. The ball is out of the way. The ball is out of the way. The ball is out of the way. The ball is out of the way. The ball is out of the way. The ball is out of the way. The ball is out of the way. The ball is out of the way. The ball is out of the way. The ball is out of the way. The ball is out of the way. The ball is out of the way. just seeing the overhead kick but so I'm to play a single little bit reluctant to shoot when they have good opportunities. Now you really can't be in this can't be too clever.;whisper-base;Shots on target\n",
            "\n",
            "id: 20\n",
            "20;england_epl;2015-02-22 - 19-15 Southampton 0 - 2 Liverpool;2758;2790; the long way from Merzys Arun, they enjoy their journey home tonight. It's been a long way back to Merzys Arun, in this rain. If they hadn't won, the yellow card into the N.E. 4, Elzeralea a few moments ago. I didn't this rain if they hadn't won. Yellow card into the N.F. Elzeralea a few moments ago.;whisper-base;Corner\n",
            "\n",
            "{'gameTime': '1 - 00:00', 'label': 'Kick-off', 'position': '0', 'team': 'away', 'visibility': 'visible'}\n",
            "id: 21\n",
            "21;england_epl;2015-02-21 - 18-00 Crystal Palace 1 - 2 Arsenal;358;390; He's in the same way as the match. He's against Midosbro. He's in the same way as the last one. He's on the 0th. But it didn't confirm him right in the match against England. Andlea is on the 1st. Now it's Pena. Pena, Pep, Suarev. This is the last one. This is the penalty. This is the penalty. The referee is going to be a match for Christophe Losses in the main position. In the English championship, the referee is going to be a foul.;whisper-base;Foul\n",
            "\n",
            "id: 22\n",
            "22;england_epl;2015-02-21 - 18-00 Crystal Palace 1 - 2 Arsenal;598;630; the the ball. The ball is not a bad ball. But the ball was absolutely nowhere to be done. The ball was blocked by the ball. The ball was blocked by the ball. The ball was blocked by the ball. The ball was blocked by the ball. The ball was blocked by the ball. The ball was blocked by the ball. The ball was blocked by the ball. The ball was blocked by the ball. The ball was blocked by the ball.;whisper-base;Foul\n",
            "\n",
            "id: 23\n",
            "23;england_epl;2015-02-21 - 18-00 Crystal Palace 1 - 2 Arsenal;1078;1110; He's got to get him back to the wall. After the top pass, he's on the far side. He's playing well. He's got to get him back. He's got to get him back. The central defender left the center for the goal. Panchal. He's been a long time. He's got to be a Christian. One for the other. One for the other. Sanchez has taken the ball. He's standing in the leg, Kalec is Sanchez.;whisper-base;Foul\n",
            "\n",
            "id: 24\n",
            "24;england_epl;2015-02-21 - 18-00 Crystal Palace 1 - 2 Arsenal;1108;1140; Now there are no chances for him. Alexey is enough for Kalena. Platonburg is enough for the yellow card. Maybe he is enough for his team. But Alexey is enough for now. He is probably not as nice as everyone who is playing here. This is a episode, of course. Such a nightmare. Of course, such a;whisper-base;Foul\n",
            "\n",
            "id: 25\n",
            "25;england_epl;2015-02-21 - 18-00 Crystal Palace 1 - 2 Arsenal;1228;1260; The last one, of course, was in the front-side, but he's in the back. He's in the back, he's in the back, he's in the back, he's in the back, he's in the back, he's in the back, he's in the back, he's in the back, he's in the back, he's in the back, he's in the back, he's in the back, he's in the back, he's in the back, he's in the back, he's in the back, he's in the back, he's in the back, he's in the back, he's in the back, he's in the back, he's in the back, he's in the back, he's in the back, he's in the back, he's in the back, he's in the back, he's in the back, he's in the back, he's in the back, he's in the back, he's in the back, he's in the back, he's in the back, he's in the back, he's in the back, he's in the back, he's in the back, he's in the back, he's in the back, he's in the back, he's in the back, he's in the back, he's in the back, he's in the back, he's in the back, he's in the back, he's in the back, he's in the back, he's in the back, he's in the back, he's in the back, he's in the back, he's in the back, he's in the back, he's in the back, he's in the back, he's in the back, he's in the back, he's in the back, he's in the back, he's in the back, he's in the back, he's in the back, he's in the back, he's in the back, he's in the back, he's in the back, he's in this season, the standard is very good, because there are players and heads in the same field.;whisper-base;Corner\n",
            "\n",
            "id: 26\n",
            "26;england_epl;2015-02-21 - 18-00 Crystal Palace 1 - 2 Arsenal;1288;1320; As Len says, he's going to beat the half-time goalkeeper. The Arsenal is much more in the face of the situation in the field. The first 20-1 minute and 40 seconds for the first time, but the Cristopo has become stronger and stronger. Madrid, Alia, is going to be a foul. Madrid, it's going to be a foul. It's going to be a foul. The most important thing is in the first time. The hand was put on the footballer of the Cristopelo.;whisper-base;Foul\n",
            "\n",
            "id: 27\n",
            "27;england_epl;2015-02-21 - 18-00 Crystal Palace 1 - 2 Arsenal;1318;1350; He was a real man. He was a real man. He was a real man. He was a real man. He was a real man. He was a real man. He was a real man. He was a real man. He was a real man. He was a real man. He was a real man. He was a real man. He was a real man. He was a real man. He was a real man. He didn't take the ball, so he didn't do it. At first he did well, and then he really hit and he was going to beat the ball again. The Kosovo really tried to prove that;whisper-base;Foul\n",
            "\n",
            "id: 28\n",
            "28;england_epl;2015-02-21 - 18-00 Crystal Palace 1 - 2 Arsenal;1648;1680; The team supports their team on the Tribune, and the Tribune is the most active one. The Tribune is called the home of the L.St. KMOM is under the St.P.P. and the second team is under the R.S.P. and the other team is under the R.S.P. and the N.S.F.L. is under the R.S.P. and the Marclott-Nbr is under the R.S.P. This time, we have a knee-to-earth, a Markov-Burk-Burk-Burk-Burk-Burk-Burk-Burk-Burk-Burk-Burk-Burk-Burk-Burk-Burk-Burk-Burk-Burk-Burk-Burk-Burk-Burk-Burk-Burk-Burk-Burk-Burk-Burk-Burk-Burk-Burk-Burk-Burk-Burk-Burk-Burk-Burk-Burk-Burk-Burk-Burk-Burk-Burk-Burk-Burk-Burk-Burk-Burk-Burk-Burk-Burk-Burk-Burk-Burk-Burk-Burk-Burk-Burk-Burk-Burk-Burk-Burk-Burk-Burk-Burk-Burk-Burk-Burk-Burk-Burk-Burk-Burk-Burk-Burk-Burk-Burk-Burk-Burk-Burk-Burk-Burk-Burk-Burk-Burk-Burk-Burk-Burk-Burk-Burk-Burk-Burk-Burk-Burk-Burk-Burk-Burk-Burk-Burk-Burk-Burk-Burk-Burk-Burk-Burk-Burk-Burk-Burk-Burk;whisper-base;Foul\n",
            "\n",
            "id: 29\n",
            "29;england_epl;2015-02-21 - 18-00 Crystal Palace 1 - 2 Arsenal;1798;1830; He's back there, he's back there, he's not in the back. He's not in the back, he's not in the back, he's not in the back, he's not in the back, he's not in the back, he's not in the back, he's not in the back, he's not in the back, he's not in the back, he's not in the back, he's not in the back, he's not in the back, he's not in the back, he's not in the back, he's not in the back, he's not in the back, he's not in the back, he's not in the back, he's not in the back, he's not in the back, he's not in the back, he's not in the back, he's not in the back, he's not in the back, he's not in the back, he's not in the back, he's not in the back, he's not in the back, he's not in the back, he's not in the back, he's not in the back, he's not in the back, he's not in the back, he's not in the back, he's not in the back, he's not in the back, he's not in the back, he's not in the back, he's not in the back, he's not in the back, he's not in the back, he's not in the back, he's not in the back, he's not in the back, he's not in the back, he's not in the back, he's not in the back, he's not in the back, he's not in the back, he's not in the back, he's not in the back, he's not in the back, he's not in the back, he's not in the back, he's not in the back, he's not in the back, he's not in the back, he's not in the back, he's not in the back, he's not in the back, he's not in the The personals are beating. Of course, the game is not about the number of players, but the game is about to be over. I've been playing with the other players for a long time.;whisper-base;Foul\n",
            "\n",
            "id: 30\n",
            "30;england_epl;2015-02-21 - 18-00 Crystal Palace 1 - 2 Arsenal;1888;1920; The game is a small kick-up, which allows the World Cup to be played on the opposite side of the world. The Zilts are going to be in the lead, but Sanchez is going to win. Sanchez is going to put a leg of the code down, and Julian is going to put a punch in the field. A great episode of the game, the game is a big-sized combination of attacks. And the player Christol P.O. was also a defensive player. The team and players of the PSP are also in the same position. Alex Sanchis has not been able to react to the run.;whisper-base;Shots on target\n",
            "\n",
            "id: 31\n",
            "31;england_epl;2015-02-21 - 18-00 Crystal Palace 1 - 2 Arsenal;2008;2040; But in the fall, he played almost everywhere. And he was not in the same position as he was. The Silver Sparks used a huge respect and a big love for the fans. He was in the Manchester United. With a very serious number. The Silver Sparks were divided into the last two after the last match. The Silver Sparks held in the team, I said thank you and I said goodbye. This goodbye was a great surprise.;whisper-base;Foul\n",
            "\n",
            "{'gameTime': '1 - 00:00', 'label': 'Kick-off', 'position': '0', 'team': 'away', 'visibility': 'visible'}\n",
            "id: 32\n",
            "32;england_epl;2015-02-21 - 18-00 Crystal Palace 1 - 2 Arsenal;118;150; The player in the Crystal Pills. Jordan March 22, number 1, Jolade, 28. Central team, team Jason Panchon, 42, team Leva, team Zahá, 1st, 2nd, 2nd, 16th. But Vata, now Niem, 3N. The player is the Razer Campbell. Zahá turns into a different team, and now he's got 5th, and he's got 5th,'s time to start the game. The ZAKA is the most interesting game. We watched it for the first time.;whisper-base;Corner\n",
            "\n",
            "id: 33\n",
            "33;england_epl;2015-02-21 - 18-00 Crystal Palace 1 - 2 Arsenal;148;180; They were looking at the right side of the first time, and the attack of the Christian Pella, the word of the Red Zahá, is not a pleasant thing to say, but the one who holds the young man, is to say that the count of the number of the enemy lost, while the working team is going to the Zahá, Panchon, the new Red Zahá, and maybe a blow to someone, and again blocked his shot, and again, the old song is not the main one. On this time, the salivary of the jury one. At this time, I'm a fat man. The opponent of the Arsenal came to help the partners in the wrong place.;whisper-base;Corner\n",
            "\n",
            "id: 34\n",
            "34;england_epl;2015-02-21 - 18-00 Crystal Palace 1 - 2 Arsenal;178;210; He put his leg in front of the coach, Jason Panchon. Jason Panchon is a great player. He's a long-awaited tanker. He's not enough for the Fraser Campbell. For the moment, the coach is ready to take this ball. He took the first half of the first half of the game. He's in the second half of the game. He's in the first half he did it in the second half, he did it in the attack. He was in a lot of time in the first half. But it's not enough time until the success is over. It's enough time to get Arsenal.;whisper-base;Corner\n",
            "\n",
            "id: 35\n",
            "35;england_epl;2015-02-21 - 18-00 Crystal Palace 1 - 2 Arsenal;448;480; But he's only in the same line. He's only in the same line. He's only in the same line. He's only in the same line. He's only in the same line. He's only in the same line. He's only in the same line. He's only in the same line. He's only in the same line. He's only in the same line. He's only in the same line. He's only in the same line. He's only in the same line. He's only in the same line. He's only in the same line. He's only in the same line. He's only in the same line. He's only in the same line. He's only in the same line. He's only in the same line. He's only in the same line. He's only in the same line. He's only in the same line. The ball goes back to the lead for his short-term goal. Ozil, not a good pass, Zakhane, two-one, the other-one against the other. Zakhane,;whisper-base;Corner\n",
            "\n",
            "id: 36\n",
            "36;england_epl;2015-02-21 - 18-00 Crystal Palace 1 - 2 Arsenal;598;630; He's a good player. He's a good player. He's a good player. He's a good player. He's a good player. He's a good player. He's a good player. He's a good player. He's a good player. He's a good player. He's a good player. He's a good player. He's a good player. He's a good player. He's a good player. He's a good player. He's a good player. He's a good player. He's a good player. He's a good player. He's a good player. He's a good player. He's a good player. He's a good player. He's a good player. He's a good player. He's a good player. He's a good player. He's a good player. Arsenal is still in the way. And the two-in-one is still in the way. One more game. The Cine-Form and the Gazonia or the Vizieru gets the second card for the Arsenal.;whisper-base;Corner\n",
            "\n",
            "id: 37\n",
            "37;england_epl;2015-02-21 - 18-00 Crystal Palace 1 - 2 Arsenal;868;900; He was very fast and very clear, but the coach still managed to break the goal. He ran to the WLB, got the transfer, for the against him. Montreal. The coach. He plays the right flank again. The team that won the Champions League, was Azem. the;whisper-base;Shots on target\n",
            "\n",
            "id: 38\n",
            "38;england_epl;2015-02-21 - 18-00 Crystal Palace 1 - 2 Arsenal;898;930; He's still one of the most dangerous legs. He's got a chance to fly to the back of the ball. He's got a chance to fly to the back of the ball. He's got a chance to fly to the back of the ball. He's got a chance to fly to the back of the ball. He's got a chance to fly to the back of the ball. He's got a chance to fly to the back of the ball. He's got a place in the mouth of one of the other teams. The back of the column, the back of the Argentinian. It was a goal. It was a goal.;whisper-base;Shots on target\n",
            "\n",
            "{'gameTime': '1 - 00:00', 'label': 'Kick-off', 'position': '0', 'team': 'away', 'visibility': 'visible'}\n",
            "id: 39\n",
            "39;england_epl;2015-02-21 - 18-00 Swansea 2 - 1 Manchester United;28;60; the first time we're looking at the game. We're looking at the game. We're looking at the game. We're looking at the game. We're looking at the game. We're looking at the game. We're looking at the game. We're looking at the game. We're looking at the game. We're looking at the game. We're looking at the game. We're looking at the game. We're looking at the game. We're looking at the game. We're looking at the game. We're looking at the game. We're looking at the game. We're looking at the game. We're looking at the game. We're looking at the the wick this afternoon for the visitors.;whisper-base;Foul\n",
            "\n",
            "id: 40\n",
            "40;england_epl;2015-02-21 - 18-00 Swansea 2 - 1 Manchester United;148;180; the the goalcule has moved out to the far side. Shell playing a little bit deeper here. And that's possibly a some rotation that will go on there. I don't think we will necessarily always play enough position.;whisper-base;Foul\n",
            "\n",
            "id: 41\n",
            "41;england_epl;2015-02-21 - 18-00 Swansea 2 - 1 Manchester United;238;270;dummy file;whisper-base;Corner\n",
            "\n",
            "id: 42\n",
            "42;england_epl;2015-02-21 - 18-00 Swansea 2 - 1 Manchester United;598;630; the the goal. The goal. The goal. The goal. The goal. The goal. The goal. The goal. The goal. The goal. The goal. The goal. The goal. The goal. The goal.;whisper-base;Corner\n",
            "\n",
            "id: 43\n",
            "43;england_epl;2015-02-21 - 18-00 Swansea 2 - 1 Manchester United;808;840; the he is now it's Rooney De Maria look sure De Maria and the he's patient from United and Swansea City making sure they don't switch off here and leave a gap. But not trying to get to the;whisper-base;Foul\n",
            "\n",
            "id: 44\n",
            "44;england_epl;2015-02-21 - 18-00 Swansea 2 - 1 Manchester United;988;1020; Not a great header from the I think it's Stephen Coker. They're a really lovely volley from the kitchen, yellow bitch. Total control of the football. Hollin elite. You have to say, poor depending. Well, that's so much time there, Rallye's to turn and get the shot away. For Laney again. They've noticed by the referee for her. I thought she had a chance to say I'm on Gomez. the second;whisper-base;Foul\n",
            "\n",
            "id: 45\n",
            "45;england_epl;2015-02-21 - 18-00 Swansea 2 - 1 Manchester United;1168;1200; the ball for what's going on in the back of the ball. The ball is going to be in the back of the ball. The ball is going to be in the back of the ball. The ball is going to be in the back of the ball. The ball is going to be in the back of the ball. The ball is going to be in the back of the ball. The ball is going to be in the back of the ball. A lot of the stuff he's done might go on all night. That's the only way to get the ball. That's the only way to get the ball. That's the only way to get the ball. That's the only way to get the ball. That's the only way to get the ball. That's the only way to get the ball. That's the only way to get the ball. That's the only way to get the ball. That's the only way to get the ball. That's the only way to get the ball. That's the only way to get the ball. That's the only way to get the ball.;whisper-base;Shots on target\n",
            "\n",
            "id: 46\n",
            "46;england_epl;2015-02-21 - 18-00 Swansea 2 - 1 Manchester United;1228;1260; He lives a wonderful cross-in and see four of all people at the near course with a lovely header. I kick so far, I mean, no lost him for the previous corner after the key on the flick. Arrayo is already got one off the line from a Gomez header. Variation this time for this fight in the shall be couldn't quite connect with it says Williams;whisper-base;Corner\n",
            "\n",
            "id: 47\n",
            "47;england_epl;2015-02-21 - 18-00 Swansea 2 - 1 Manchester United;1348;1380; changed the shape of the team and you can see that sometimes there's a number of few occasions already in this game where players have missed on the study to the so there's been a horror about it now they lost possession because they were in the same way from well spoke about Flaney in the first minute giving away unnecessary cheap three kicks from day one when he came all the way to ever to his donut can't seem to get out;whisper-base;Foul\n",
            "\n",
            "{'gameTime': '1 - 00:00', 'label': 'Kick-off', 'position': '0', 'team': 'away', 'visibility': 'visible'}\n",
            "id: 48\n",
            "48;england_epl;2015-02-21 - 18-00 Swansea 2 - 1 Manchester United;148;180; the seat. Rocco, waiting to be way back on the pitch. And he's back on. And he's swore that he's got Phil Jones's way.;whisper-base;Foul\n",
            "\n",
            "id: 49\n",
            "49;england_epl;2015-02-21 - 18-00 Swansea 2 - 1 Manchester United;268;300; the ball going in there but actually looked like I thought David here got his angles all gone miss red that ball going in there but actually two in the house is made a good safe. Angle D. Maria with this corner kick. The game straight into the gloves of Fabianski. Everybody went near it. Angle D. Maria over hit the cross.;whisper-base;Corner\n",
            "\n",
            "id: 50\n",
            "50;england_epl;2015-02-21 - 18-00 Swansea 2 - 1 Manchester United;508;540; Cross to take a nick goes behind. The last corner kick went straight into the palms of Fabianski. Deem Maria to swing it in with his left foot again. DeMaria to swing it in with his left foot again. I was off the head of Taylor, I'm out for another corner.;whisper-base;Corner\n",
            "\n",
            "id: 51\n",
            "51;england_epl;2015-02-21 - 18-00 Swansea 2 - 1 Manchester United;538;570; the last corner we had everybody went there and then we could have hit it long and that occasion where bodies at the back of the penalty area and it sits at low to the near box. Well, Faleini is drunk to the edge of the box. Actually Williams is keeping a keen eye on him although there's a five-yard gap between them. For anyone who will have to run on Williams here, Rooney with the corner, which will uncomfortable for Fabianski that time.;whisper-base;Corner\n",
            "\n",
            "id: 52\n",
            "52;england_epl;2015-02-21 - 18-00 Swansea 2 - 1 Manchester United;1168;1200; the very positive goalkeeper and committed himself. I don't think he was ever going to get near that. And his defenders had to help him out. Just since the United. Just been in a bad steamer a little bit. So there are a few moments on the counter attack that's been mostly United. I'm impressed. De Maria. Rocco. He really was just three yards from goal and couldn't keep it down. the game. The game is a game. The game is a game. The game is a game. The game is a game. The game is a game. The game is a game. The game is a game. The game is a game. The game is a game. The game is a game. The game is a game. The game is a game.;whisper-base;Corner\n",
            "\n",
            "id: 53\n",
            "53;england_epl;2015-02-21 - 18-00 Swansea 2 - 1 Manchester United;1258;1290; with his right not in bend. He went for the dummy and Jung was allowed to advance there. Not was meant too easy for Jung to get the cross off. OK, he's not getting the angle of corner, but he could do being a bit tighter to him for me. OK, the five-yard gap between William and Sam Faleini, allowing Faleini to have a run at this. Rooney lifts the ball in. Fabiatsky's nowhere. Kielson signed the box and Fabiatsky gets to it. We came up with this.;whisper-base;Corner\n",
            "\n",
            "id: 54\n",
            "54;england_epl;2015-02-21 - 18-00 Swansea 2 - 1 Manchester United;1408;1440; the ball. That's what Manchester has been working on. Folleini in the far post and the cross is from Balenciar. It's twice as he's nodded balls back into good areas. It's a good deep cross and even blends joining in the attack now, such as the, uh, the problem in Manchester United not the moment. Can Swansea said he's standing there ground here. A driven ball this time by Rooney.;whisper-base;Corner\n",
            "\n",
            "{'gameTime': '1 - 00:00', 'label': 'Kick-off', 'position': '0', 'team': 'away', 'visibility': 'visible'}\n",
            "id: 55\n",
            "55;england_epl;2015-02-21 - 18-00 Chelsea 1 - 1 Burnley;178;210; He's going to be a stripper, he's going to be a player in the game, he's already in the lead, he's locked up, he's going to be able to see Kurtua Kurtua comes from a really surprising situation, the league of champions, I'm not sure if he's going to be a speculated player, maybe with the pitch check, but Maurinho has preferred to keep the goal in the ring. Yes, because Kurtua came from a slightly more flogical act, he had committed some mistake especially in Valones Aéreos, who is not usual in him.;whisper-base;Corner\n",
            "\n",
            "id: 56\n",
            "56;england_epl;2015-02-21 - 18-00 Chelsea 1 - 1 Burnley;268;300; the ball. The Brazilian who puts his ball in the area, in the heart of the area, the point of penalty came to the square to hit between the three balls and obligate to hit or to have to force the one who will be the first one who throws the Chelsea in the match. I think the movement proposes him to be square, more good. The second line of the game, through the space between the central and a sensational ball. Gran Felipe Luis.;whisper-base;Shots on target\n",
            "\n",
            "id: 57\n",
            "57;england_epl;2015-02-21 - 18-00 Chelsea 1 - 1 Burnley;328;360; the ball, the trippier and the pass of this ended with a ball slightly forwarded. I'm concerned for the possession, Chelsea and Kaidi, second ball that Roba and that ends up provoking that Chelsea is completely gone. He's the rematch between the three balls, very dangerous in this occasion. Good throw, which finally solved the short run. He's going to be in three points, very dangerous in this occasion. Good launch. It's finally going to be short. It's lost.;whisper-base;Shots on target\n",
            "\n",
            "id: 58\n",
            "58;england_epl;2015-02-21 - 18-00 Chelsea 1 - 1 Burnley;778;810; the control. He scored a lot. He's still fighting there. The US that robes definitely that ball. He's going to have to hunt. Already inside the area that Maniobra fantastic the Belga and Vanovitch will score and Vanovitch. Well, he will score and Vanovitch even though the play is of the home minute 14 of the first part. It's too much talking in defense to the Barley, but the great individual action of Hazard and Ivanovic again, he's a bit tired of the goal;whisper-base;Goal\n",
            "\n",
            "id: 59\n",
            "59;england_epl;2015-02-21 - 18-00 Chelsea 1 - 1 Burnley;958;990; the The team that suffered a lot of damage, we are talking about the Barley, the game area of the rival teams, 16 goals of the head.;whisper-base;Corner\n",
            "\n",
            "id: 60\n",
            "60;england_epl;2015-02-21 - 18-00 Chelsea 1 - 1 Burnley;1018;1050; the the the the the the the the the the the the the the the the the the the the the the the the the the the the side of the ball, they want to trip here. An exit of Manchester City. I put all the ballons from the left and from the left.;whisper-base;Corner\n",
            "\n",
            "id: 61\n",
            "61;england_epl;2015-02-21 - 18-00 Chelsea 1 - 1 Burnley;1318;1350; absolutely nothing and the one who comes there is Caithly Caithly with me Van's option of remat. Well, he had made it well, maybe then he precipitated a little in the moment of the hit but the maneuver to turn was not bad. Asli Balms's card. And we're going to be going to be going to be going to be going to be going to be going to be going to be going to be going to be going to be going to be going to be going to be going to be going to be going to be going to be going to be going to be going to be going to be going to be going to be going to be going to be going to be going to be going to be going to be going to be going to be going to be going to be going to be going to be going to be going to be going to be going to be going to be going to be going to be going to be going to be going to be going to be going to be going to be going to be going to be going to be going to be going to be going to be going to be going to be going to be going to be going to be going to be going to be going to be going to be going to be going to be going to be going to be going to be going to be going to be going to be going to be going to be going to be going to be going to be going to be going to be going to be going to be going to be going to be going to be going to be going to be going to be going to be going to be going to be going to be going to be going to be going to be going to be going to be going to be going to be going to be going to be going to be going to be going to be going to be going to be going to be going to be going to be going to be going to be going to be going to be going to be going to be going to be going to be going to be going to be going to be going to be going to be going to be going to be going to be going to be going to be going to be going to be going to be going to be going to be going to be going to be going to be going to be going to be going to be going to be going to be going to be going to be going to be going to be going to be going to be going to be going to be;whisper-base;Shots on target\n",
            "\n",
            "{'gameTime': '1 - 00:00', 'label': 'Kick-off', 'position': '0', 'team': 'away', 'visibility': 'visible'}\n",
            "id: 62\n",
            "62;england_epl;2015-02-21 - 18-00 Chelsea 1 - 1 Burnley;298;330; He's pushing the throw, and I'm obliging to be able to get away. He didn't have a position like the rematte, but he didn't think about it. He didn't think about it, he already did it in a couple of occasions. He's on the first part and he's being a bit of a face to the loss of the most dangerous player. Here's what he's got. He's got a lot of points. But what do you think about it? When he has a position like this, he disappears. And that, in games like this, I think it is very useful. Optiona ballon parados, saque de esquina, is very short in his trajectory to the ball.;whisper-base;Corner\n",
            "\n",
            "id: 63\n",
            "63;england_epl;2015-02-21 - 18-00 Chelsea 1 - 1 Burnley;448;480; a little bit and in it is rare. Remate of Ivanovic and at the point of the Marcar Matich are complaining Korner has been to a pass Matich to take advantage of that head of Brazil, Brannislat Ivanovic. We see it again, repeated. Ivanovic is coming running. It is difficult to mark Ivanovic. It's Korner because look at that. It's not for the cat. Not for it. is going to be a little bit more;whisper-base;Corner\n",
            "\n",
            "id: 64\n",
            "64;england_epl;2015-02-21 - 18-00 Chelsea 1 - 1 Burnley;538;570; The Belgian who changes to the right side for Ivanovic, the center of Ivanovic now is strong. This is not good. It's good defending, it's good to see an attack in the air game. It's quite stable. Distributing it costs a little more. Diego Costa can score the defeat of Diego Costa in two times. It's for Tom Hitton. Fantastico. He controls that first touch of Diego Costa to put the ball forward.;whisper-base;Shots on target\n",
            "\n",
            "id: 65\n",
            "65;england_epl;2015-02-21 - 18-00 Chelsea 1 - 1 Burnley;568;600; to put the ball forward. There was the key in this play. Diego Costa and Hazar, sending that ball and what? Well, he puts it in. Diego Costa. There are 200 legs in between. But Hazar is a incredible ball. Diego Costa and he puts it right in the space. Where before, he tried to find it. The square career. Well, now he did it perfect. Hazar, the cost. to look for the square race. Well, now he did it perfectly, Jasara Costa. Protestama Terri is the last missing that they indicated on the Barley, follow the game.;whisper-base;Foul\n",
            "\n",
            "id: 66\n",
            "66;england_epl;2015-02-21 - 18-00 Chelsea 1 - 1 Burnley;628;660; The head is done, the short hands are done. He's trying to get the chance to get the chance to get the chance to get the chance to get the chance to get the chance to get the chance to get the chance to get the chance to get the chance to get the chance to get the chance to get the chance to get the chance to get the chance to get the chance to get the chance to get the chance to get the chance to get the chance to get the chance to get the chance to get the chance to get the chance to get the chance to get the chance to get the chance to get the chance to get the chance to get the chance to get the chance to get the chance to get the chance to get the chance to get the chance to get the chance to get the chance to get the chance to get the chance to get the chance to get the chance to get the chance to get the chance to get the chance to get the chance to get the chance to get the chance to get the chance to get the chance to get the chance to get the chance to get the chance to get the chance to get the chance to get the chance to get the chance to get the chance to get the chance to get the chance to get the chance to get the chance to get the chance to get the chance to get the chance to get the chance to get the chance to get the chance to get the chance to get the chance to get the chance to get the chance to get the chance to get the chance to get the chance to get the chance to get the chance to get the chance to get the chance to get the chance to get the chance to get the chance to get the chance to get the chance to get the chance to get the chance to get the chance to get the chance to get the chance to get the chance to get the chance to get the chance to get the chance to get the chance to get the chance to get the chance to get the chance to get the chance to get the chance to get the chance to get the chance to get the chance to get the chance to get the chance to get the chance to get the chance to get the chance to get the chance Falta Tástica. Inescesaria. Now for the Visitante. Soma. Poco exigido.;whisper-base;Foul\n",
            "\n",
            "id: 67\n",
            "67;england_epl;2015-02-21 - 18-00 Chelsea 1 - 1 Burnley;988;1020; the He's the one who raises his prestations in the game, he wants the second one. But at the moment, he's the finalist of the team of Mauro. That second is so much.;whisper-base;Foul\n",
            "\n",
            "id: 68\n",
            "68;england_epl;2015-02-21 - 18-00 Chelsea 1 - 1 Burnley;1258;1290; He's being deeply focused on the side with his sides. That's the good team he's given to the team. What happens is that he doesn't finish the match. We're looking forward to the match for Chelsea. He's got a bad soul that I couldn't finish. He's getting a bad soul. The ball is for William. He's got two men in front of me. He has William, two men. He's also in the Caithly. He's got a calm, calm, calm, calm. The Brazilian is supporting that soul. the;whisper-base;Corner\n",
            "\n",
            "id: 69\n",
            "69;england_epl;2015-02-21 - 18-00 Chelsea 1 - 1 Burnley;1318;1350; of Diego Costa, what do you want these races, even if it's the band, you can race, you can go out, you can go out, you can go out, you can go out, you can go out, you can go out, you can go out, you can go out, you can go out, you can go out, you can go out, you can go out, you can go out, you can go out, you can go out, you can go out, you can go out, you can go out, you can go out, you can go out, you can go out, you can go out, you can go out, you can go out, you can go out, you can go out, you can go out, you can go out, you can go out, you can go out, you can go out, you can go out, you can go out, you can go out, you can go out, you can go out, you can go out, you can go out, you can go out, you can go out, you can go out, you can go out, you can go out, you can go out, you can go out, you can go out, you can go out, you can go out, you can go out, you can go out, you can go out, you can go out, you can go out, you can go out, you can go out, you can go out, you can go out, you can go out, you can go out, you can go out, you can go out, you can go out, you can go out, you can go out, you can go out, you can go out, you can go out, you can go out, you can go out, you can go out, you can go out, you can go out, you can go out, you can go out, you can go out, you can go out, you can go out, you can go out, you can go out, you can go out, you can go out, you can go out, you can go out, you can go out, of the fallout. Especially for that sectorist who is where he likes to fall to have the opportunity to enter in diagonal.;whisper-base;Shots on target\n",
            "\n"
          ]
        }
      ],
      "source": [
        "import json\n",
        "\n",
        "# New Dataset Evaluation\n",
        "def build_labeled_dataset():\n",
        "    base_path = \"Football-Dataset/england_epl/\"\n",
        "    id = 1\n",
        "    \n",
        "    f = open(\"dataframe.csv\", \"w\")\n",
        "    f.write(\"id; league; game; fragment_start_time; fragment_end_time; commentary; model_id; label;\\n\")\n",
        "    f.close()\n",
        "           \n",
        "    for year in os.listdir(base_path):\n",
        "        games = os.path.join(base_path, year)\n",
        "        for game in os.listdir(games):\n",
        "            fragments_1 = os.path.join(games, game, \"fragments_1_224p\")\n",
        "            fragments_2 = os.path.join(games, game, \"fragments_2_224p\")\n",
        "\n",
        "            id = write_fragments(folder=fragments_1, year=year, league=\"england_epl\", game=game, half=1, id=id)\n",
        "            id = write_fragments(folder=fragments_2, year=year, league=\"england_epl\", game=game, half=2, id=id)\n",
        "\n",
        "\"\"\"\n",
        "folder - path to the folder that has the fragments\n",
        "league - league folder in which the game is inserted\n",
        "year   - year in whice the game is inserted\n",
        "game   - name of the correspondent game\n",
        "half   - 1 if it is 1st half, 2 if it is 2nd half\n",
        "audio_cut_length - size of the fragments\n",
        "offset - size of the offset we are using to catch some audio from the last fragment.\n",
        "\"\"\"\n",
        "def write_fragments(folder, league, year, game, half, id, audio_cut_length=30, offset=2):    \n",
        "    model_id = \"openai/whisper-base\" #\"openai/whisper-large-v3\" \n",
        "    num_transcriptions = len(os.listdir(folder))//2\n",
        "    \n",
        "    # ex: (fragment_20.txt, 20)  -> (fragment file name, fragment_number)\n",
        "    model_id = model_id[7:]\n",
        "    fragment_file_names = [(\"fragment_\" + str(i) + f\"__{model_id}.txt\", i) for i in range(num_transcriptions)]\n",
        "\n",
        "    labels = os.path.join(\"Football-Dataset\", league, year, game, \"Labels-v2.json\")\n",
        "\n",
        "    # ------------------------------------------ erro aqui ------------------------------------------\n",
        "    l = open(labels, \"r\", encoding='utf-8')\n",
        "    data = json.load(l)\n",
        "    print(data[\"annotations\"][0])\n",
        "\n",
        "    with open(\"dataframe.csv\", 'a') as df:\n",
        "        for fragment_file in fragment_file_names:\n",
        "            fragment_path = os.path.join(folder, fragment_file[0])\n",
        "            # These values are counted in seconds\n",
        "            start_time = fragment_file[1] * audio_cut_length - offset\n",
        "            end_time = (fragment_file[1]+1) * audio_cut_length\n",
        "\n",
        "            f = open(fragment_path, \"r\")\n",
        "            commentary = f.read()\n",
        "            f.close()\n",
        " \n",
        "            for annotation in data['annotations']:\n",
        "                annotation_half = int(annotation['gameTime'][0]) \n",
        "                if annotation_half == half:\n",
        "                    annotation_min =  int(annotation['gameTime'][-5:-3])\n",
        "                    annotation_sec = int(annotation['gameTime'][-2:])\n",
        "                    \n",
        "                    annotation_min_to_sec = annotation_min*60 + annotation_sec \n",
        "                    if start_time < annotation_min_to_sec and end_time > annotation_min_to_sec:\n",
        "                        label =  annotation['label']\n",
        "                        break\n",
        "            \n",
        "            \n",
        "            if label in [\"Shots on target\", \"Goal\", \"Foul\", \"Corner\"]:\n",
        "                print(f\"id: {id}\")\n",
        "                row = str(id) + \";\" + league + \";\" + game + \";\" + str(start_time) + \";\" + str(end_time) + \";\" + commentary + \";\" + model_id + \";\" + label + \"\\n\"\n",
        "                print(row)\n",
        "                df.write(row)\n",
        "                id+=1\n",
        "            label = \"\"\n",
        "            \n",
        "    return id   \n",
        "               \n",
        "\n",
        "build_labeled_dataset()\n",
        "\n"
      ]
    },
    {
      "cell_type": "markdown",
      "metadata": {},
      "source": [
        "### Evaluate the model\n"
      ]
    },
    {
      "cell_type": "markdown",
      "metadata": {},
      "source": []
    }
  ],
  "metadata": {
    "colab": {
      "provenance": []
    },
    "kernelspec": {
      "display_name": "Python 3",
      "name": "python3"
    },
    "language_info": {
      "codemirror_mode": {
        "name": "ipython",
        "version": 3
      },
      "file_extension": ".py",
      "mimetype": "text/x-python",
      "name": "python",
      "nbconvert_exporter": "python",
      "pygments_lexer": "ipython3",
      "version": "3.12.2"
    }
  },
  "nbformat": 4,
  "nbformat_minor": 0
}
